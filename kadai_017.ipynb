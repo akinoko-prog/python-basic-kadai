{
 "cells": [
  {
   "cell_type": "code",
   "execution_count": 1,
   "id": "8e399ca4-df26-4563-b10d-b37db9d92c8f",
   "metadata": {},
   "outputs": [
    {
     "name": "stdout",
     "output_type": "stream",
     "text": [
      "Aliceさんは大人です。\n",
      "Bobさんは大人ではありません。\n",
      "Charlieさんは大人です。\n"
     ]
    }
   ],
   "source": [
    "class Human:\n",
    "    def __init__(self,name,age):\n",
    "        self.name = name\n",
    "        self.age = age\n",
    "\n",
    "    def check_adult(self):\n",
    "        if self.age >= 20:\n",
    "            print(f\"{self.name}さんは大人です。\")\n",
    "        else:\n",
    "            print(F\"{self.name}さんは大人ではありません。\")\n",
    "\n",
    "human_list = []\n",
    "human_list.append(Human(\"Alice\",25))\n",
    "human_list.append(Human(\"Bob\",18))\n",
    "human_list.append(Human(\"Charlie\",30))\n",
    "\n",
    "for human in human_list:\n",
    "    human.check_adult()\n",
    "    \n",
    "         "
   ]
  },
  {
   "cell_type": "code",
   "execution_count": null,
   "id": "69417913-7d79-4aaa-a678-ebfbe0e4ec8d",
   "metadata": {},
   "outputs": [],
   "source": []
  }
 ],
 "metadata": {
  "kernelspec": {
   "display_name": "Python 3 (ipykernel)",
   "language": "python",
   "name": "python3"
  },
  "language_info": {
   "codemirror_mode": {
    "name": "ipython",
    "version": 3
   },
   "file_extension": ".py",
   "mimetype": "text/x-python",
   "name": "python",
   "nbconvert_exporter": "python",
   "pygments_lexer": "ipython3",
   "version": "3.10.4"
  }
 },
 "nbformat": 4,
 "nbformat_minor": 5
}
