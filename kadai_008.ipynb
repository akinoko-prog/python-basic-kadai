{
  "cells": [
    {
      "cell_type": "code",
      "execution_count": null,
      "id": "623d0830-cf6a-44c8-a876-ec7394aed2c6",
      "metadata": {
        "id": "623d0830-cf6a-44c8-a876-ec7394aed2c6",
        "outputId": "dc1166a6-9d90-4cfe-ca57-0d1e33aa08ab"
      },
      "outputs": [
        {
          "name": "stdout",
          "output_type": "stream",
          "text": [
            "1\n",
            "2\n",
            "Fizz\n",
            "4\n",
            "Buzz\n",
            "Fizz\n",
            "7\n",
            "8\n",
            "Fizz\n",
            "Buzz\n",
            "11\n",
            "Fizz\n",
            "13\n",
            "14\n",
            "FizzBuzz\n"
          ]
        }
      ],
      "source": [
        "def fizz_buzz(var):\n",
        "    if var % 3 == 0 and var % 5 ==0:\n",
        "        return \"FizzBuzz\"\n",
        "    elif var % 3 == 0:\n",
        "        return \"Fizz\"\n",
        "    elif var % 5 == 0:\n",
        "        return \"Buzz\"\n",
        "    else:\n",
        "        return var\n",
        "\n",
        "#test\n",
        "for num in range(1,16):\n",
        "    print(fizz_buzz(num))\n",
        "\n",
        ""
      ]
    },
    {
      "cell_type": "code",
      "execution_count": null,
      "id": "22d88fb5-38e5-4a3f-bbd9-7517241e7725",
      "metadata": {
        "id": "22d88fb5-38e5-4a3f-bbd9-7517241e7725"
      },
      "outputs": [],
      "source": []
    }
  ],
  "metadata": {
    "kernelspec": {
      "display_name": "Python 3 (ipykernel)",
      "language": "python",
      "name": "python3"
    },
    "language_info": {
      "codemirror_mode": {
        "name": "ipython",
        "version": 3
      },
      "file_extension": ".py",
      "mimetype": "text/x-python",
      "name": "python",
      "nbconvert_exporter": "python",
      "pygments_lexer": "ipython3",
      "version": "3.10.5"
    },
    "colab": {
      "provenance": []
    }
  },
  "nbformat": 4,
  "nbformat_minor": 5
}