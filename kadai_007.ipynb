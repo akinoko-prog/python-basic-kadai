{
 "cells": [
  {
   "cell_type": "code",
   "execution_count": null,
   "id": "ac39aa13-9773-4167-a53a-4a0156174d35",
   "metadata": {
    "id": "ac39aa13-9773-4167-a53a-4a0156174d35",
    "outputId": "d709f32f-5db3-4b86-f6c0-543c0ab63dd1"
   },
   "outputs": [
    {
     "name": "stdout",
     "output_type": "stream",
     "text": [
      "水曜日は晴れです\n",
      "晴れ\n"
     ]
    }
   ],
   "source": [
    "list = [\n",
    "\"月曜日は晴れです\",\n",
    "\"火曜日は雨です\",\n",
    "\"水曜日は晴れです\",\n",
    "\"木曜日は晴れです\",\n",
    "\"金曜日は曇りです\",\n",
    "\"土曜日は曇りのち雨です\",\n",
    "\"日曜日は雷雨です\"]\n",
    "\n",
    "dictionary = {\n",
    "\"mon\":\"晴れ\",\n",
    "\"tue\":\"雨\",\n",
    "\"wed\":\"晴れ\",\n",
    "\"thu\":\"晴れ\",\n",
    "\"fri\":\"曇り\",\n",
    "\"sat\":\"曇りのち雨\",\n",
    "\"sun\":\"雷雨\",\n",
    "}\n",
    "print(list[2])\n",
    "print(dictionary[\"wed\"])"
   ]
  }
 ],
 "metadata": {
  "colab": {
   "provenance": []
  },
  "kernelspec": {
   "display_name": "Python 3 (ipykernel)",
   "language": "python",
   "name": "python3"
  },
  "language_info": {
   "codemirror_mode": {
    "name": "ipython",
    "version": 3
   },
   "file_extension": ".py",
   "mimetype": "text/x-python",
   "name": "python",
   "nbconvert_exporter": "python",
   "pygments_lexer": "ipython3",
   "version": "3.10.4"
  }
 },
 "nbformat": 4,
 "nbformat_minor": 5
}
