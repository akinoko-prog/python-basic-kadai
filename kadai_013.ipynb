{
  "cells": [
    {
      "cell_type": "code",
      "execution_count": null,
      "id": "7fd62c03-d26a-4711-a615-63fa511a345e",
      "metadata": {
        "id": "7fd62c03-d26a-4711-a615-63fa511a345e",
        "outputId": "6be6dd34-0b90-4084-f8a5-651edd49f3ee"
      },
      "outputs": [
        {
          "name": "stdout",
          "output_type": "stream",
          "text": [
            "合計金額: 1100.0\n"
          ]
        }
      ],
      "source": [
        "def caluculate_total_price(item_price,tax_rate=0.1):\n",
        "\n",
        "    total_price = item_price + item_price*tax_rate\n",
        "    return total_price\n",
        "\n",
        "#test\n",
        "item_price = 1000\n",
        "tax_rate = 0.1\n",
        "total_price = caluculate_total_price(item_price,tax_rate=0.1)\n",
        "print(\"合計金額:\",total_price)"
      ]
    },
    {
      "cell_type": "code",
      "execution_count": null,
      "id": "0ed06d94-4b6e-4666-a995-78a04996b036",
      "metadata": {
        "id": "0ed06d94-4b6e-4666-a995-78a04996b036"
      },
      "outputs": [],
      "source": []
    }
  ],
  "metadata": {
    "kernelspec": {
      "display_name": "Python 3 (ipykernel)",
      "language": "python",
      "name": "python3"
    },
    "language_info": {
      "codemirror_mode": {
        "name": "ipython",
        "version": 3
      },
      "file_extension": ".py",
      "mimetype": "text/x-python",
      "name": "python",
      "nbconvert_exporter": "python",
      "pygments_lexer": "ipython3",
      "version": "3.10.5"
    },
    "colab": {
      "provenance": []
    }
  },
  "nbformat": 4,
  "nbformat_minor": 5
}