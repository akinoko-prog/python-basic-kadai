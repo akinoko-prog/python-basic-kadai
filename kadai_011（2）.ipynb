{
 "cells": [
  {
   "cell_type": "code",
   "execution_count": 1,
   "id": "38f73c02-3904-4b71-8610-1b8aad0b74d1",
   "metadata": {
    "scrolled": true
   },
   "outputs": [
    {
     "name": "stdout",
     "output_type": "stream",
     "text": [
      "水\n",
      "金\n",
      "地\n",
      "火\n",
      "木\n",
      "土\n",
      "天\n",
      "海\n",
      "冥\n"
     ]
    }
   ],
   "source": [
    "list = [\"水\",\"金\",\"地\",\"火\",\"木\",\"土\",\"天\",\"海\",\"冥\"]\n",
    "\n",
    "for i in list:\n",
    "    print(i)"
   ]
  },
  {
   "cell_type": "code",
   "execution_count": null,
   "id": "0d3fca2e-7fec-40c1-b824-53590f903475",
   "metadata": {
    "jupyter": {
     "source_hidden": true
    }
   },
   "outputs": [],
   "source": [
    "list = [\"水\",\"金\",\"地\",\"火\",\"木\",\"土\",\"天\",\"海\",\"冥\"]\n",
    "index = 0\n",
    "\n",
    "while index < len(list):\n",
    "\n",
    "    element = list[index]\n",
    "    \n",
    "    print(element)\n",
    "\n",
    "index += 1\n",
    "\n",
    "if element == \"冥\":\n",
    "    break"
   ]
  },
  {
   "cell_type": "code",
   "execution_count": null,
   "id": "d82ca64d-5394-4384-a9bc-f78ec0f7c2aa",
   "metadata": {},
   "outputs": [],
   "source": []
  }
 ],
 "metadata": {
  "kernelspec": {
   "display_name": "Python 3 (ipykernel)",
   "language": "python",
   "name": "python3"
  },
  "language_info": {
   "codemirror_mode": {
    "name": "ipython",
    "version": 3
   },
   "file_extension": ".py",
   "mimetype": "text/x-python",
   "name": "python",
   "nbconvert_exporter": "python",
   "pygments_lexer": "ipython3",
   "version": "3.10.5"
  }
 },
 "nbformat": 4,
 "nbformat_minor": 5
}
