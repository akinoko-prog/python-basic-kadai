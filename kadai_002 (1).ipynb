{
 "cells": [
  {
   "cell_type": "code",
   "execution_count": 2,
   "id": "7a378cd3-9c5a-475b-8cff-aa4273a1a3fe",
   "metadata": {},
   "outputs": [],
   "source": [
    "import pandas as pd\n",
    "import numpy as np"
   ]
  },
  {
   "cell_type": "code",
   "execution_count": 3,
   "id": "fd9a55a2-3527-4668-86e1-4b1bc19d8b27",
   "metadata": {},
   "outputs": [],
   "source": [
    "data = {\n",
    "    \"日付\": [\"2023-05-17\",\"2023-05-18\",\"2023-05-19\",\"2023-05-20\",\"2023-05-21\"],\n",
    "    \"社員名\": [\"山田\", \"佐藤\", \"鈴木\", \"田中\", \"高橋\"],\n",
    "    \"売上\": [100,200,150,300,250],\n",
    "    \"部門\": [\"メーカー\",\"代理店\",\"メーカー\",\"商社\",\"代理店\"]\n",
    "} \n",
    "\n",
    "df = pd.DataFrame(data)"
   ]
  },
  {
   "cell_type": "code",
   "execution_count": 4,
   "id": "4bd53118-e69a-454a-8009-42df81605ede",
   "metadata": {},
   "outputs": [],
   "source": [
    "average_sales = df[\"売上\"].mean()"
   ]
  },
  {
   "cell_type": "code",
   "execution_count": 7,
   "id": "048a3da0-b14b-4e59-8e28-8a15787cc259",
   "metadata": {},
   "outputs": [
    {
     "name": "stdout",
     "output_type": "stream",
     "text": [
      "           日付 社員名   売上    部門 業績ランク\n",
      "0  2023-05-17  山田  100  メーカー     C\n",
      "1  2023-05-18  佐藤  200   代理店     B\n",
      "2  2023-05-19  鈴木  150  メーカー     C\n",
      "3  2023-05-20  田中  300    商社     A\n",
      "4  2023-05-21  高橋  250   代理店     A\n"
     ]
    }
   ],
   "source": [
    "def performance(sales):\n",
    "        if sales >= average_sales + 50:\n",
    "            return \"A\"\n",
    "        elif sales >= average_sales:\n",
    "            return \"B\"\n",
    "        else:\n",
    "            return \"C\"\n",
    "\n",
    "\n",
    "df[\"業績ランク\"] = df[\"売上\"].apply(performance)\n",
    "\n",
    "print(df)"
   ]
  },
  {
   "cell_type": "code",
   "execution_count": 2,
   "id": "feb03f89-e190-4496-a142-3c19ecb831bc",
   "metadata": {},
   "outputs": [
    {
     "ename": "NameError",
     "evalue": "name 'df' is not defined",
     "output_type": "error",
     "traceback": [
      "\u001b[1;31m---------------------------------------------------------------------------\u001b[0m",
      "\u001b[1;31mNameError\u001b[0m                                 Traceback (most recent call last)",
      "Cell \u001b[1;32mIn[2], line 1\u001b[0m\n\u001b[1;32m----> 1\u001b[0m \u001b[43mdf\u001b[49m\u001b[38;5;241m.\u001b[39mto_excel(writer,sheet_name\u001b[38;5;241m=\u001b[39m\u001b[38;5;124m\"\u001b[39m\u001b[38;5;124msheet1\u001b[39m\u001b[38;5;124m\"\u001b[39m,index\u001b[38;5;241m=\u001b[39m\u001b[38;5;28;01mFalse\u001b[39;00m)\n\u001b[0;32m      3\u001b[0m writer\u001b[38;5;241m.\u001b[39mclose()\n",
      "\u001b[1;31mNameError\u001b[0m: name 'df' is not defined"
     ]
    }
   ],
   "source": [
    "df.to_excel(writer,sheet_name=\"sheet1\",index=False)\n",
    "\n",
    "writer.close()"
   ]
  },
  {
   "cell_type": "code",
   "execution_count": null,
   "id": "593d166a-567f-4021-b0fe-6898a700d23d",
   "metadata": {},
   "outputs": [],
   "source": []
  }
 ],
 "metadata": {
  "kernelspec": {
   "display_name": "Python 3 (ipykernel)",
   "language": "python",
   "name": "python3"
  },
  "language_info": {
   "codemirror_mode": {
    "name": "ipython",
    "version": 3
   },
   "file_extension": ".py",
   "mimetype": "text/x-python",
   "name": "python",
   "nbconvert_exporter": "python",
   "pygments_lexer": "ipython3",
   "version": "3.10.5"
  }
 },
 "nbformat": 4,
 "nbformat_minor": 5
}
