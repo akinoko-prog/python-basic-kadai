{
 "cells": [
  {
   "cell_type": "code",
   "execution_count": 1,
   "id": "a8dd272c-56da-4e5b-b7ce-0b376fd5cd80",
   "metadata": {},
   "outputs": [
    {
     "name": "stdout",
     "output_type": "stream",
     "text": [
      "Requirement already satisfied: openpyxl in c:\\users\\survey_07\\python\\basepy\\lib\\site-packages (3.1.2)\n",
      "Requirement already satisfied: et-xmlfile in c:\\users\\survey_07\\python\\basepy\\lib\\site-packages (from openpyxl) (1.1.0)\n"
     ]
    }
   ],
   "source": [
    "!pip install openpyxl"
   ]
  },
  {
   "cell_type": "code",
   "execution_count": 9,
   "id": "3ab62a2d-aa98-47e0-8bc6-cf201f50c208",
   "metadata": {},
   "outputs": [],
   "source": [
    "import datetime\n",
    "from openpyxl import Workbook\n",
    "from openpyxl.styles import Alignment\n",
    "\n",
    "\n",
    "#固定データ\n",
    "company_name = \"株式会社ABC\"\n",
    "address =  \"〒101-0022 東京都千代田区神田練堀町300\"\n",
    "contact = \"TEL:03-1234-5678 FAX:03-1234-5678\"\n",
    "contact_person =  \"担当者名：鈴木一郎様\"\n",
    "\n",
    "#商品データ\n",
    "items = [\n",
    "    (\"商品A\",2,10000),\n",
    "    (\"商品B\",1,15000)\n",
    "]\n",
    "\n",
    "#新しいワークブックを作成\n",
    "workbook = Workbook()\n",
    "worksheet = workbook.active\n",
    "\n",
    "\n",
    "#現在日付を取得\n",
    "current_date = datetime.datetime.now().strftime(\"%Y/%m/%d\")\n",
    "\n",
    "#固定データを挿入\n",
    "worksheet[\"B2\"] = \"請求書\"\n",
    "worksheet[\"B4\"] = company_name\n",
    "worksheet[\"B5\"] = address\n",
    "worksheet[\"B6\"] = contact\n",
    "worksheet[\"B7\"] = contact_person\n",
    "worksheet[\"F4\"] = \"No\"\n",
    "worksheet[\"G4\"] = \"0001\"\n",
    "worksheet[\"F5\"] = \"日付\"\n",
    "worksheet[\"G5\"] = f\"{current_date}\"\n",
    "workbook.save(\"請求書.xlsx\")\n",
    "\n",
    "\n",
    "#タイトル行を作成\n",
    "title_row= [\"商品名\",\"数量\",\"単価\",\"金額\"]\n",
    "worksheet.append(title_row)\n",
    "\n",
    "#商品データを追加\n",
    "total_amount = 0 #初期化\n",
    "for item_name,quantity,unit_price in items:\n",
    "    amount = quantity * unit_price\n",
    "    total_amount += amount\n",
    "    worksheet.append([item_name,quantity,unit_price,amount])\n",
    "\n",
    "#合計行を追加\n",
    "worksheet.append([])\n",
    "worksheet.append([\"合計\",\"\",\"\",total_amount])\n",
    "\n",
    "#消費税と税込合計を計算\n",
    "tax = total_amount * 0.1\n",
    "total_with_tax = total_amount + tax\n",
    "\n",
    "#消費税行と税込合計を追加\n",
    "worksheet.append([\"消費税\",\"\",\"\",tax])\n",
    "worksheet.append([\"税込合計\",\"\",\"\",total_with_tax])\n",
    "\n",
    "#セルの結合とスタイル設定\n",
    "worksheet.merge_cells(\"A1:D1\") #固定データセルの結合\n",
    "worksheet.merge_cells(\"A8:C8\") #合計行の結合\n",
    "\n",
    "#セルないテキストの中央寄せ\n",
    "for row in worksheet.iter_rows(min_row=1,max_row=9,min_col=1,max_col=4):\n",
    "    for cell in row:\n",
    "        cell.alignment = Alignment(horizontal=\"center\",vertical=\"center\")\n",
    "\n",
    "workbook.save(\"請求書.xlsx\")\n"
   ]
  },
  {
   "cell_type": "code",
   "execution_count": null,
   "id": "5ac78152-46af-4dc1-875f-6d323214d412",
   "metadata": {},
   "outputs": [],
   "source": []
  }
 ],
 "metadata": {
  "kernelspec": {
   "display_name": "Python 3 (ipykernel)",
   "language": "python",
   "name": "python3"
  },
  "language_info": {
   "codemirror_mode": {
    "name": "ipython",
    "version": 3
   },
   "file_extension": ".py",
   "mimetype": "text/x-python",
   "name": "python",
   "nbconvert_exporter": "python",
   "pygments_lexer": "ipython3",
   "version": "3.10.5"
  }
 },
 "nbformat": 4,
 "nbformat_minor": 5
}
