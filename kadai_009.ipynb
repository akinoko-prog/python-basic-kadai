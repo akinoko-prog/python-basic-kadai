{
  "cells": [
    {
      "cell_type": "code",
      "execution_count": null,
      "id": "027f56a0-f913-40ae-bb38-c9a4c3270924",
      "metadata": {
        "id": "027f56a0-f913-40ae-bb38-c9a4c3270924"
      },
      "outputs": [],
      "source": [
        "list = [\"水\",\"金\",\"地\",\"火\",\"木\",\"土\",\"天\",\"海\",\"冥\"]\n",
        "\n",
        "for i in list:\n",
        "    print(i)"
      ]
    },
    {
      "cell_type": "code",
      "execution_count": null,
      "id": "0b5b99a7-24e5-477f-aa47-a30ac2edf255",
      "metadata": {
        "id": "0b5b99a7-24e5-477f-aa47-a30ac2edf255"
      },
      "outputs": [],
      "source": [
        "list = [\"水\",\"金\",\"地\",\"火\",\"木\",\"土\",\"天\",\"海\",\"冥\"]\n",
        "\n",
        "indez = 0\n",
        "while indez < len(list):\n",
        "    print(list[index])\n",
        "    index += 1"
      ]
    },
    {
      "cell_type": "code",
      "execution_count": null,
      "id": "ff36cc97-f251-4e4c-af45-3276c4305903",
      "metadata": {
        "id": "ff36cc97-f251-4e4c-af45-3276c4305903"
      },
      "outputs": [],
      "source": []
    }
  ],
  "metadata": {
    "kernelspec": {
      "display_name": "Python 3 (ipykernel)",
      "language": "python",
      "name": "python3"
    },
    "language_info": {
      "codemirror_mode": {
        "name": "ipython",
        "version": 3
      },
      "file_extension": ".py",
      "mimetype": "text/x-python",
      "name": "python",
      "nbconvert_exporter": "python",
      "pygments_lexer": "ipython3",
      "version": "3.10.5"
    },
    "colab": {
      "provenance": []
    }
  },
  "nbformat": 4,
  "nbformat_minor": 5
}