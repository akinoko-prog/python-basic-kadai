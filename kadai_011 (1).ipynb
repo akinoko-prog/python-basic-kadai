{
 "cells": [
  {
   "cell_type": "code",
   "execution_count": 1,
   "id": "38f73c02-3904-4b71-8610-1b8aad0b74d1",
   "metadata": {
    "scrolled": true,
    "tags": []
   },
   "outputs": [
    {
     "name": "stdout",
     "output_type": "stream",
     "text": [
      "水\n",
      "金\n",
      "地\n",
      "火\n",
      "木\n",
      "土\n",
      "天\n",
      "海\n",
      "冥\n"
     ]
    }
   ],
   "source": [
    "list = [\"水\",\"金\",\"地\",\"火\",\"木\",\"土\",\"天\",\"海\",\"冥\"]\n",
    "\n",
    "for i in list:\n",
    "    print(i)"
   ]
  },
  {
   "cell_type": "code",
   "execution_count": 2,
   "id": "0d3fca2e-7fec-40c1-b824-53590f903475",
   "metadata": {
    "tags": []
   },
   "outputs": [
    {
     "name": "stdout",
     "output_type": "stream",
     "text": [
      "水\n",
      "金\n",
      "地\n",
      "火\n",
      "木\n",
      "土\n",
      "天\n",
      "海\n",
      "冥\n"
     ]
    }
   ],
   "source": [
    "list = [\"水\",\"金\",\"地\",\"火\",\"木\",\"土\",\"天\",\"海\",\"冥\"]\n",
    "index = 0\n",
    "\n",
    "while index < len(list):\n",
    "\n",
    "    element = list[index]\n",
    "    \n",
    "    print(element)\n",
    "\n",
    "    index += 1\n",
    "\n",
    "    if element == \"冥\":\n",
    "        break"
   ]
  },
  {
   "cell_type": "code",
   "execution_count": 7,
   "id": "b1250ecb-cc82-4792-b1e2-9ddaa84d1411",
   "metadata": {},
   "outputs": [
    {
     "name": "stdout",
     "output_type": "stream",
     "text": [
      "金\n",
      "地\n",
      "火\n",
      "木\n",
      "土\n",
      "天\n",
      "海\n",
      "冥\n",
      " 水\n",
      " 金\n",
      " 地\n",
      " 火\n",
      " 木\n",
      " 土\n",
      " 天\n",
      " 海\n",
      " 冥\n"
     ]
    }
   ],
   "source": [
    "list = [\"水\",\"金\",\"地\",\"火\",\"木\",\"土\",\"天\",\"海\",\"冥\"]\n",
    "\n",
    "\n",
    "for i in range(2):\n",
    "\n",
    "    if i == 0:\n",
    "        index = 1\n",
    "        while index < len(list):\n",
    "            element = list[index]\n",
    "            print(element)\n",
    "            index += 1\n",
    "      \n",
    "    if i == 1:\n",
    "        index = 0\n",
    "        while index < len(list):\n",
    "            element = \" \"+ list[index]\n",
    "            print(element)\n",
    "            index += 1"
   ]
  },
  {
   "cell_type": "code",
   "execution_count": null,
   "id": "6f42b68b-4d14-40eb-bcc1-36bb38d3832b",
   "metadata": {},
   "outputs": [],
   "source": []
  }
 ],
 "metadata": {
  "kernelspec": {
   "display_name": "Python 3 (ipykernel)",
   "language": "python",
   "name": "python3"
  },
  "language_info": {
   "codemirror_mode": {
    "name": "ipython",
    "version": 3
   },
   "file_extension": ".py",
   "mimetype": "text/x-python",
   "name": "python",
   "nbconvert_exporter": "python",
   "pygments_lexer": "ipython3",
   "version": "3.10.4"
  }
 },
 "nbformat": 4,
 "nbformat_minor": 5
}
