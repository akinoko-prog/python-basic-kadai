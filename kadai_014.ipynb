{
  "cells": [
    {
      "cell_type": "code",
      "execution_count": null,
      "id": "e0979dd8-afd1-4610-90f7-cfe9ab7ab751",
      "metadata": {
        "id": "e0979dd8-afd1-4610-90f7-cfe9ab7ab751",
        "outputId": "93b20841-f480-4c76-89f5-af38b26b3a9a"
      },
      "outputs": [
        {
          "name": "stdout",
          "output_type": "stream",
          "text": [
            "330.0\n"
          ]
        }
      ],
      "source": [
        "price1 = 100\n",
        "price2 = 200\n",
        "tax = 1.1\n",
        "def total():\n",
        "        return price1 + price2\n",
        "\n",
        "total_price = total()\n",
        "total_with_tax = total_price * tax\n",
        "print(total_with_tax)"
      ]
    },
    {
      "cell_type": "code",
      "execution_count": null,
      "id": "2b3c8d3f-d1dd-4414-b9e2-a689a1d5f001",
      "metadata": {
        "id": "2b3c8d3f-d1dd-4414-b9e2-a689a1d5f001"
      },
      "outputs": [],
      "source": []
    }
  ],
  "metadata": {
    "kernelspec": {
      "display_name": "Python 3 (ipykernel)",
      "language": "python",
      "name": "python3"
    },
    "language_info": {
      "codemirror_mode": {
        "name": "ipython",
        "version": 3
      },
      "file_extension": ".py",
      "mimetype": "text/x-python",
      "name": "python",
      "nbconvert_exporter": "python",
      "pygments_lexer": "ipython3",
      "version": "3.10.5"
    },
    "colab": {
      "provenance": []
    }
  },
  "nbformat": 4,
  "nbformat_minor": 5
}