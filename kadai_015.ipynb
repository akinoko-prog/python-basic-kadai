{
 "cells": [
  {
   "cell_type": "code",
   "execution_count": 4,
   "id": "93e66349-cbb7-4479-945a-880fa485ddc9",
   "metadata": {
    "scrolled": true
   },
   "outputs": [
    {
     "name": "stdout",
     "output_type": "stream",
     "text": [
      "名前: John\n",
      "年齢: 30\n",
      "person2の情報:\n",
      "名前: Alice\n",
      "年齢: 25\n"
     ]
    }
   ],
   "source": [
    "class Human:\n",
    "    def __init__(self,name,age):\n",
    "        self.name = name\n",
    "        self.age = age\n",
    "\n",
    "    def printinfo(self):\n",
    "        print(\"名前:\",self.name)\n",
    "        print(\"年齢:\",self.age)\n",
    "\n",
    "person1 = Human(\"John\", 30)\n",
    "person2 = Human(\"Alice\", 25)\n",
    "\n",
    "person1.printinfo()\n",
    "\n",
    "print(\"person2の情報:\")\n",
    "person2.printinfo()"
   ]
  },
  {
   "cell_type": "code",
   "execution_count": null,
   "id": "d9748178-3cbe-482c-969f-9e60d8004207",
   "metadata": {},
   "outputs": [],
   "source": []
  }
 ],
 "metadata": {
  "kernelspec": {
   "display_name": "Python 3 (ipykernel)",
   "language": "python",
   "name": "python3"
  },
  "language_info": {
   "codemirror_mode": {
    "name": "ipython",
    "version": 3
   },
   "file_extension": ".py",
   "mimetype": "text/x-python",
   "name": "python",
   "nbconvert_exporter": "python",
   "pygments_lexer": "ipython3",
   "version": "3.10.5"
  }
 },
 "nbformat": 4,
 "nbformat_minor": 5
}
