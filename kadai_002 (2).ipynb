{
 "cells": [
  {
   "cell_type": "code",
   "execution_count": 1,
   "id": "7a378cd3-9c5a-475b-8cff-aa4273a1a3fe",
   "metadata": {},
   "outputs": [],
   "source": [
    "import pandas as pd\n",
    "import numpy as np"
   ]
  },
  {
   "cell_type": "code",
   "execution_count": 2,
   "id": "fd9a55a2-3527-4668-86e1-4b1bc19d8b27",
   "metadata": {
    "scrolled": true
   },
   "outputs": [
    {
     "data": {
      "text/html": [
       "<div>\n",
       "<style scoped>\n",
       "    .dataframe tbody tr th:only-of-type {\n",
       "        vertical-align: middle;\n",
       "    }\n",
       "\n",
       "    .dataframe tbody tr th {\n",
       "        vertical-align: top;\n",
       "    }\n",
       "\n",
       "    .dataframe thead th {\n",
       "        text-align: right;\n",
       "    }\n",
       "</style>\n",
       "<table border=\"1\" class=\"dataframe\">\n",
       "  <thead>\n",
       "    <tr style=\"text-align: right;\">\n",
       "      <th></th>\n",
       "      <th>日付</th>\n",
       "      <th>社員名</th>\n",
       "      <th>売上</th>\n",
       "      <th>部門</th>\n",
       "    </tr>\n",
       "  </thead>\n",
       "  <tbody>\n",
       "    <tr>\n",
       "      <th>0</th>\n",
       "      <td>2023-05-17</td>\n",
       "      <td>山田</td>\n",
       "      <td>100</td>\n",
       "      <td>メーカー</td>\n",
       "    </tr>\n",
       "    <tr>\n",
       "      <th>1</th>\n",
       "      <td>2023-05-18</td>\n",
       "      <td>佐藤</td>\n",
       "      <td>200</td>\n",
       "      <td>代理店</td>\n",
       "    </tr>\n",
       "    <tr>\n",
       "      <th>2</th>\n",
       "      <td>2023-05-19</td>\n",
       "      <td>鈴木</td>\n",
       "      <td>150</td>\n",
       "      <td>メーカー</td>\n",
       "    </tr>\n",
       "    <tr>\n",
       "      <th>3</th>\n",
       "      <td>2023-05-20</td>\n",
       "      <td>田中</td>\n",
       "      <td>300</td>\n",
       "      <td>商社</td>\n",
       "    </tr>\n",
       "    <tr>\n",
       "      <th>4</th>\n",
       "      <td>2023-05-21</td>\n",
       "      <td>高橋</td>\n",
       "      <td>250</td>\n",
       "      <td>代理店</td>\n",
       "    </tr>\n",
       "  </tbody>\n",
       "</table>\n",
       "</div>"
      ],
      "text/plain": [
       "           日付 社員名   売上    部門\n",
       "0  2023-05-17  山田  100  メーカー\n",
       "1  2023-05-18  佐藤  200   代理店\n",
       "2  2023-05-19  鈴木  150  メーカー\n",
       "3  2023-05-20  田中  300    商社\n",
       "4  2023-05-21  高橋  250   代理店"
      ]
     },
     "execution_count": 2,
     "metadata": {},
     "output_type": "execute_result"
    }
   ],
   "source": [
    "data = {\n",
    "    \"日付\": [\"2023-05-17\",\"2023-05-18\",\"2023-05-19\",\"2023-05-20\",\"2023-05-21\"],\n",
    "    \"社員名\": [\"山田\", \"佐藤\", \"鈴木\", \"田中\", \"高橋\"],\n",
    "    \"売上\": [100,200,150,300,250],\n",
    "    \"部門\": [\"メーカー\",\"代理店\",\"メーカー\",\"商社\",\"代理店\"]\n",
    "} \n",
    "\n",
    "df = pd.DataFrame(data)\n",
    "df"
   ]
  },
  {
   "cell_type": "code",
   "execution_count": 3,
   "id": "4bd53118-e69a-454a-8009-42df81605ede",
   "metadata": {},
   "outputs": [
    {
     "data": {
      "text/plain": [
       "0    200.0\n",
       "1    200.0\n",
       "2    200.0\n",
       "3    200.0\n",
       "4    200.0\n",
       "Name: 売上平均, dtype: float64"
      ]
     },
     "execution_count": 3,
     "metadata": {},
     "output_type": "execute_result"
    }
   ],
   "source": [
    "df[\"売上平均\"] = average_sales = df[\"売上\"].mean()\n",
    "df[\"売上平均\"]"
   ]
  },
  {
   "cell_type": "code",
   "execution_count": 4,
   "id": "048a3da0-b14b-4e59-8e28-8a15787cc259",
   "metadata": {},
   "outputs": [
    {
     "name": "stdout",
     "output_type": "stream",
     "text": [
      "           日付 社員名   売上    部門   売上平均 業績ランク\n",
      "0  2023-05-17  山田  100  メーカー  200.0     C\n",
      "1  2023-05-18  佐藤  200   代理店  200.0     B\n",
      "2  2023-05-19  鈴木  150  メーカー  200.0     C\n",
      "3  2023-05-20  田中  300    商社  200.0     A\n",
      "4  2023-05-21  高橋  250   代理店  200.0     A\n"
     ]
    }
   ],
   "source": [
    "def performance(sales):\n",
    "        if sales >= average_sales + 50:\n",
    "            return \"A\"\n",
    "        elif sales >= average_sales:\n",
    "            return \"B\"\n",
    "        else:\n",
    "            return \"C\"\n",
    "\n",
    "\n",
    "df[\"業績ランク\"] = df[\"売上\"].apply(performance)\n",
    "\n",
    "print(df)"
   ]
  },
  {
   "cell_type": "code",
   "execution_count": 6,
   "id": "51cd1255-7c70-400e-b733-55abd06a0a49",
   "metadata": {},
   "outputs": [],
   "source": [
    "writer = pd.ExcelWriter(\"業績.xlsx\")\n",
    "\n",
    "df.to_excel(writer,sheet_name=\"Sheet\",index=False)\n",
    "\n",
    "writer.close()"
   ]
  },
  {
   "cell_type": "code",
   "execution_count": null,
   "id": "cd2aa9fc-f16e-4d20-ac26-cee5d2a3edbe",
   "metadata": {},
   "outputs": [],
   "source": []
  },
  {
   "cell_type": "code",
   "execution_count": null,
   "id": "4b6006cd-7a67-4a07-addc-737e04a812f2",
   "metadata": {},
   "outputs": [],
   "source": []
  }
 ],
 "metadata": {
  "kernelspec": {
   "display_name": "Python 3 (ipykernel)",
   "language": "python",
   "name": "python3"
  },
  "language_info": {
   "codemirror_mode": {
    "name": "ipython",
    "version": 3
   },
   "file_extension": ".py",
   "mimetype": "text/x-python",
   "name": "python",
   "nbconvert_exporter": "python",
   "pygments_lexer": "ipython3",
   "version": "3.10.5"
  }
 },
 "nbformat": 4,
 "nbformat_minor": 5
}
